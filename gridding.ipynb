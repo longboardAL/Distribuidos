{
 "cells": [
  {
   "cell_type": "code",
   "execution_count": 1,
   "metadata": {
    "scrolled": true
   },
   "outputs": [
    {
     "name": "stdout",
     "output_type": "stream",
     "text": [
      "Requirement already satisfied: matplotlib in /home/tom/miniconda3/envs/mpi-env/lib/python3.11/site-packages (3.8.0)\n",
      "Requirement already satisfied: contourpy>=1.0.1 in /home/tom/miniconda3/envs/mpi-env/lib/python3.11/site-packages (from matplotlib) (1.1.1)\n",
      "Requirement already satisfied: cycler>=0.10 in /home/tom/miniconda3/envs/mpi-env/lib/python3.11/site-packages (from matplotlib) (0.12.1)\n",
      "Requirement already satisfied: fonttools>=4.22.0 in /home/tom/miniconda3/envs/mpi-env/lib/python3.11/site-packages (from matplotlib) (4.43.1)\n",
      "Requirement already satisfied: kiwisolver>=1.0.1 in /home/tom/miniconda3/envs/mpi-env/lib/python3.11/site-packages (from matplotlib) (1.4.5)\n",
      "Requirement already satisfied: numpy<2,>=1.21 in /home/tom/miniconda3/envs/mpi-env/lib/python3.11/site-packages (from matplotlib) (1.26.0)\n",
      "Requirement already satisfied: packaging>=20.0 in /home/tom/miniconda3/envs/mpi-env/lib/python3.11/site-packages (from matplotlib) (23.1)\n",
      "Requirement already satisfied: pillow>=6.2.0 in /home/tom/miniconda3/envs/mpi-env/lib/python3.11/site-packages (from matplotlib) (10.1.0)\n",
      "Requirement already satisfied: pyparsing>=2.3.1 in /home/tom/miniconda3/envs/mpi-env/lib/python3.11/site-packages (from matplotlib) (3.1.1)\n",
      "Requirement already satisfied: python-dateutil>=2.7 in /home/tom/miniconda3/envs/mpi-env/lib/python3.11/site-packages (from matplotlib) (2.8.2)\n",
      "Requirement already satisfied: six>=1.5 in /home/tom/miniconda3/envs/mpi-env/lib/python3.11/site-packages (from python-dateutil>=2.7->matplotlib) (1.16.0)\n",
      "Note: you may need to restart the kernel to use updated packages.\n"
     ]
    }
   ],
   "source": [
    "%pip install matplotlib"
   ]
  },
  {
   "cell_type": "code",
   "execution_count": 69,
   "metadata": {},
   "outputs": [
    {
     "name": "stdout",
     "output_type": "stream",
     "text": [
      "Overwriting test.py\n"
     ]
    }
   ],
   "source": [
    "%%file test.py\n",
    "from mpi4py import MPI\n",
    "import numpy as np\n",
    "\n",
    "# Initialize MPI\n",
    "comm = MPI.COMM_WORLD\n",
    "rank = comm.Get_rank()\n",
    "size = comm.Get_size()\n",
    "\n",
    "# Gather\n",
    "# Create a 2D array on each process\n",
    "sendbuf = np.full((2, 2), rank, dtype='i')\n",
    "print(sendbuf)\n",
    "\n",
    "# Initialize the receive buffer on rank 0\n",
    "recvbuf = None\n",
    "if rank == 0:\n",
    "    recvbuf = np.empty([size, 2, 2], dtype='i')\n",
    "\n",
    "# Gather the 2D arrays from all processes to the recvbuf on rank 0\n",
    "comm.Gather(sendbuf, recvbuf, root=0)\n",
    "\n",
    "# Perform element-wise addition on rank 0\n",
    "if rank == 0:\n",
    "    sum_array = np.sum(recvbuf, axis=0)\n",
    "    print(\"Sum array on rank 0:\", sum_array)"
   ]
  },
  {
   "cell_type": "code",
   "execution_count": 70,
   "metadata": {
    "scrolled": false
   },
   "outputs": [
    {
     "name": "stdout",
     "output_type": "stream",
     "text": [
      "[[1 1]\r\n",
      " [1 1]]\r\n",
      "[[2 2]\r\n",
      " [2 2]]\r\n",
      "[[0 0]\r\n",
      " [0 0]]\r\n",
      "Sum array on rank 0: [[3 3]\r\n",
      " [3 3]]\r\n"
     ]
    }
   ],
   "source": [
    "!mpirun -n 3 python test.py"
   ]
  },
  {
   "cell_type": "code",
   "execution_count": 5,
   "metadata": {},
   "outputs": [],
   "source": [
    "%matplotlib inline"
   ]
  },
  {
   "cell_type": "code",
   "execution_count": 6,
   "metadata": {},
   "outputs": [
    {
     "name": "stdout",
     "output_type": "stream",
     "text": [
      "Overwriting gridding.py\n"
     ]
    }
   ],
   "source": [
    "%%file gridding.py\n",
    "\n",
    "from mpi4py import MPI\n",
    "import numpy as np\n",
    "import matplotlib.pyplot as plt\n",
    "import sys\n",
    "\n",
    "# Function to transform coordinates u and v to wavelengths\n",
    "def transform_coordinates(data):\n",
    "    c = 299792458.0  # Speed of light in meters per second\n",
    "    data[:,0] = data[:,0]*data[:,6]/c\n",
    "    data[:,1] = data[:,1]*data[:,6]/c\n",
    "    return data\n",
    "\n",
    "# Function to perform the gridding process\n",
    "def grid_data(local_data, N, delta_x_rad):\n",
    "    local_F_r = np.zeros((N, N), dtype=np.float64)\n",
    "    local_F_i = np.zeros((N, N), dtype=np.float64)\n",
    "    local_W_t = np.zeros((N, N), dtype=np.float64)\n",
    "    \n",
    "    delta_u_lambda = 1/(delta_x_rad*N)\n",
    "\n",
    "    i = np.clip(np.round(local_data[:,0]/delta_u_lambda + N/2).astype(int), 0, N-1)\n",
    "    \n",
    "    j = np.clip(np.round(local_data[:,1]/delta_u_lambda + N/2).astype(int), 0, N-1)\n",
    "    \n",
    "    # acumulamos todos los valores que hagan match en la pos i,j para cada i,j calculado anteriormente\n",
    "    np.add.at(local_F_r, (i, j), local_data[:,3] * local_data[:,5])\n",
    "    np.add.at(local_F_i, (i, j), local_data[:,4] * local_data[:,5])\n",
    "    np.add.at(local_W_t, (i, j), local_data[:,5])\n",
    "    \n",
    "    return local_F_r, local_F_i, local_W_t\n",
    "\n",
    "# Parse command-line arguments\n",
    "if len(sys.argv) != 7:\n",
    "    print(\"Usage: mpirun -n num_processes python gridding.py -i data_file -d deltax -N image_size\")\n",
    "    sys.exit(1)\n",
    "\n",
    "if sys.argv[1] != '-i':\n",
    "    print(\"Error: You must specify the data file using -i\")\n",
    "    sys.exit(1)\n",
    "\n",
    "if sys.argv[3] != '-d':\n",
    "    print(\"Error: You must specify the value of deltax using -d\")\n",
    "    sys.exit(1)\n",
    "\n",
    "if sys.argv[5] != '-N':\n",
    "    print(\"Error: You must specify the image size using -N\")\n",
    "    sys.exit(1)\n",
    "\n",
    "input_file = sys.argv[2]\n",
    "name_file = \"./\"+sys.argv[2]\n",
    "delta_x_arcsec = float(sys.argv[4])\n",
    "delta_x_rad = (np.pi/(180*3600))*delta_x_arcsec\n",
    "N = int(sys.argv[6])\n",
    "\n",
    "# Initialize MPI\n",
    "comm = MPI.COMM_WORLD\n",
    "rank = comm.Get_rank()\n",
    "size = comm.Get_size()\n",
    "\n",
    "# SCATTER PROCESS\n",
    "data = None\n",
    "num_rows = None\n",
    "num_cols = None\n",
    "if rank == 0:\n",
    "    data = np.loadtxt(\"./hltau_completo_uv.csv\", delimiter=\",\")\n",
    "    num_rows, num_cols = data.shape\n",
    "    \n",
    "# Broadcast 'data.shape' desde el proceso 0 a todos los demás procesos\n",
    "num_rows = comm.bcast(num_rows, root=0)\n",
    "num_cols = comm.bcast(num_cols, root=0)\n",
    "    \n",
    "# Calcula cuántas filas se asignarán a cada proceso\n",
    "num_rows_per_process = num_rows // size\n",
    "\n",
    "# Divide las filas de 'data' en partes iguales entre los procesos\n",
    "local_data = np.empty([num_rows_per_process,num_cols], dtype='float64')\n",
    "comm.Scatter(data, local_data, root=0)\n",
    "\n",
    "# GRIDDING PROCESS\n",
    "local_F_r, local_F_i, local_W_t = grid_data(local_data, N, delta_x_rad)\n",
    "\n",
    "# Espera a que todos los procesos terminen\n",
    "comm.Barrier()\n",
    "\n",
    "# GATHER PROCESS\n",
    "# Initialize the receive buffers\n",
    "gathered_M_real = None\n",
    "gathered_M_imaginaria = None\n",
    "gathered_M_pesos = None\n",
    "\n",
    "if rank == 0:\n",
    "    gathered_M_real = np.empty([size, N, N], dtype = np.float64)\n",
    "    gathered_M_imaginaria = np.empty([size, N, N], dtype = np.float64)\n",
    "    gathered_M_pesos = np.empty([size, N, N], dtype = np.float64)\n",
    "\n",
    "# Gather the 2D arrays from all processes to the recvbuf on rank 0\n",
    "comm.Gather(local_F_r, gathered_M_real, root=0)\n",
    "comm.Gather(local_F_i, gathered_M_imaginaria, root=0)\n",
    "comm.Gather(local_W_t, gathered_M_pesos, root=0)\n",
    "\n",
    "# Espera a que todos los procesos terminen\n",
    "comm.Barrier()\n",
    "\n",
    "# The root process (rank 0) join partials results\n",
    "if rank == 0:\n",
    "    \n",
    "    m_r = np.sum(gathered_M_real, axis=0)\n",
    "    m_i = np.sum(gathered_M_imaginaria, axis=0)\n",
    "    m_p = np.sum(gathered_M_pesos, axis=0)\n",
    "    \n",
    "    # Normalizamos\n",
    "    divisor_nonzero = np.where(m_p != 0, m_p, 1)\n",
    "    m_r = m_r / divisor_nonzero\n",
    "    m_i = m_i / divisor_nonzero\n",
    "    \n",
    "    grid = m_r + 1j * m_i\n",
    "    dirty_image = np.fft.ifftshift(np.fft.fft2(np.fft.fftshift(grid)))\n",
    "    \n",
    "    fig , ax = plt.subplots(1,2)\n",
    "    # Subtrama izquierda: Datos Grideados\n",
    "    ax[0].imshow(np.abs(grid), origin=\"lower\", cmap=\"hot\")\n",
    "    ax[0].set_title(\"Datos Grideados\")\n",
    "\n",
    "    # Subtrama derecha: Dirty Image\n",
    "    ax[1].imshow(dirty_image.real, origin=\"lower\", cmap=\"hot\")\n",
    "    ax[1].set_title(\"Dirty Image\")\n",
    "\n",
    "    # Ajusta el diseño del gráfico\n",
    "    plt.tight_layout()\n",
    "\n",
    "    # Muestra el gráfico en el cuaderno de Jupyter\n",
    "    plt.show()\n",
    "    \n",
    "# Finaliza MPI\n",
    "MPI.Finalize()"
   ]
  },
  {
   "cell_type": "code",
   "execution_count": 7,
   "metadata": {
    "scrolled": true
   },
   "outputs": [
    {
     "name": "stdout",
     "output_type": "stream",
     "text": [
      "Figure(640x480)\n"
     ]
    }
   ],
   "source": [
    "!mpirun -n 8 python gridding.py -i hltau_completo_uv.csv -d 0.003 -N 2048"
   ]
  },
  {
   "cell_type": "code",
   "execution_count": null,
   "metadata": {},
   "outputs": [],
   "source": []
  }
 ],
 "metadata": {
  "kernelspec": {
   "display_name": "Python 3 (ipykernel)",
   "language": "python",
   "name": "python3"
  },
  "language_info": {
   "codemirror_mode": {
    "name": "ipython",
    "version": 3
   },
   "file_extension": ".py",
   "mimetype": "text/x-python",
   "name": "python",
   "nbconvert_exporter": "python",
   "pygments_lexer": "ipython3",
   "version": "3.11.5"
  }
 },
 "nbformat": 4,
 "nbformat_minor": 2
}
