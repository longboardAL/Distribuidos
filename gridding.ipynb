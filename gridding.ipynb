{
 "cells": [
  {
   "cell_type": "code",
   "execution_count": null,
   "metadata": {
    "scrolled": true
   },
   "outputs": [],
   "source": [
    "%pip install matplotlib"
   ]
  },
  {
   "cell_type": "code",
   "execution_count": 2,
   "metadata": {},
   "outputs": [
    {
     "name": "stdout",
     "output_type": "stream",
     "text": [
      "Overwriting gridding.py\n"
     ]
    }
   ],
   "source": [
    "%%file gridding.py\n",
    "\n",
    "from mpi4py import MPI\n",
    "import numpy as np\n",
    "import matplotlib.pyplot as plt\n",
    "import sys\n",
    "\n",
    "# Function to transform coordinates u and v to wavelengths\n",
    "def transform_coordinates(data):\n",
    "    c = 299792458.0  # Speed of light in meters per second\n",
    "    data[:,0] = data[:,0]*data[:,6]/c\n",
    "    data[:,1] = data[:,1]*data[:,6]/c\n",
    "    return data\n",
    "\n",
    "# Function to perform the gridding process\n",
    "def grid_data(local_data, N, delta_x_rad):\n",
    "    local_F_r = np.zeros((N, N))\n",
    "    local_F_i = np.zeros((N, N))\n",
    "    local_W_t = np.zeros((N, N))\n",
    "    \n",
    "    delta_u_lambda = 1/(delta_x_rad*N)\n",
    "\n",
    "    i = np.clip(np.round(local_data[:,0]/delta_u_lambda + N/2).astype(int), 0, N-1)\n",
    "    \n",
    "    j = np.clip(np.round(local_data[:,1]/delta_u_lambda + N/2).astype(int), 0, N-1)\n",
    "    \n",
    "    np.add.at(local_F_r, (i, j), local_data[:,3] * local_data[:,5])\n",
    "    np.add.at(local_F_i, (i, j), local_data[:,4] * local_data[:,5])\n",
    "    np.add.at(local_W_t, (i, j), local_data[:,5])\n",
    "    \n",
    "    return local_F_r, local_F_i, local_W_t\n",
    "\n",
    "# Parse command-line arguments\n",
    "if len(sys.argv) != 7:\n",
    "    print(\"Usage: mpirun -n num_processes python gridding.py -i data_file -d deltax -N image_size\")\n",
    "    sys.exit(1)\n",
    "\n",
    "if sys.argv[1] != '-i':\n",
    "    print(\"Error: You must specify the data file using -i\")\n",
    "    sys.exit(1)\n",
    "\n",
    "if sys.argv[3] != '-d':\n",
    "    print(\"Error: You must specify the value of deltax using -d\")\n",
    "    sys.exit(1)\n",
    "\n",
    "if sys.argv[5] != '-N':\n",
    "    print(\"Error: You must specify the image size using -N\")\n",
    "    sys.exit(1)\n",
    "\n",
    "input_file = sys.argv[2]\n",
    "name_file = \"./\"+sys.argv[2]\n",
    "delta_x_arcsec = float(sys.argv[4])\n",
    "delta_x_rad = (np.pi/(180*3600))*delta_x_arcsec\n",
    "N = int(sys.argv[6])\n",
    "\n",
    "# Initialize MPI\n",
    "comm = MPI.COMM_WORLD\n",
    "rank = comm.Get_rank()\n",
    "size = comm.Get_size()\n",
    "\n",
    "sendbuf = None\n",
    "data_per_process = None\n",
    "if rank == 0:\n",
    "    sendbuf = np.loadtxt(name_file, delimiter=\",\")\n",
    "    transform_coordinates(sendbuf)\n",
    "    data_per_process = len(sendbuf) // size\n",
    "\n",
    "# Broadcast the number of rows per process\n",
    "data_per_process = comm.bcast(data_per_process, root=0)\n",
    "\n",
    "# Scatter Process\n",
    "recvbuf = np.empty([data_per_process, 8], dtype=np.float64)\n",
    "comm.Scatter(sendbuf, recvbuf, root=0)\n",
    "\n",
    "# Gridding Process\n",
    "local_F_r, local_F_i, local_W_t = grid_data(recvbuf, N, delta_x_rad)\n",
    "\n",
    "# Gather Process\n",
    "gathered_F_r = np.zeros((size, N, N)) if rank == 0 else None\n",
    "gathered_F_i = np.zeros((size, N, N)) if rank == 0 else None\n",
    "gathered_W_t = np.zeros((size, N, N)) if rank == 0 else None\n",
    "\n",
    "comm.Gather(local_F_r, gathered_F_r, root=0)\n",
    "comm.Gather(local_F_i, gathered_F_i, root=0)\n",
    "comm.Gather(local_W_t, gathered_W_t, root=0)\n",
    "\n",
    "# Join partial results\n",
    "if rank == 0:\n",
    "    F_r_total = np.sum(gathered_F_r, axis=0)\n",
    "    F_i_total = np.sum(gathered_F_i, axis=0)\n",
    "    W_t_total = np.sum(gathered_W_t, axis=0)\n",
    "    \n",
    "    # Apply normalization where weights are non-zero\n",
    "    mask = W_t_total > 0\n",
    "    F_r_total[mask] /= W_t_total[mask]\n",
    "    F_i_total[mask] /= W_t_total[mask]\n",
    "    \n",
    "    # Construct the complex grid and perform the inverse FFT\n",
    "    grid = F_r_total + 1j * F_i_total\n",
    "    dirty_image = np.fft.ifftshift(np.fft.ifft2(np.fft.fftshift(grid)))\n",
    "    \n",
    "    # Plot the results\n",
    "    fig, ax = plt.subplots(1, 2, figsize=(10, 5))\n",
    "    ax[0].imshow(np.abs(grid), origin=\"lower\", cmap=\"hot\")\n",
    "    ax[0].set_title(\"Gridded Data\")\n",
    "    ax[1].imshow(dirty_image.real, origin=\"lower\", cmap=\"hot\")\n",
    "    ax[1].set_title(\"Dirty Image\")\n",
    "    plt.tight_layout()\n",
    "    plt.show()\n",
    "\n",
    "# Finalize MPI\n",
    "MPI.Finalize()"
   ]
  },
  {
   "cell_type": "code",
   "execution_count": 3,
   "metadata": {
    "scrolled": true
   },
   "outputs": [
    {
     "name": "stdout",
     "output_type": "stream",
     "text": [
      "Figure(1000x500)\r\n"
     ]
    }
   ],
   "source": [
    "!mpirun -n 8 python gridding.py -i hltau_completo_uv.csv -d 0.003 -N 2048"
   ]
  },
  {
   "cell_type": "code",
   "execution_count": null,
   "metadata": {},
   "outputs": [],
   "source": []
  }
 ],
 "metadata": {
  "kernelspec": {
   "display_name": "Python 3 (ipykernel)",
   "language": "python",
   "name": "python3"
  },
  "language_info": {
   "codemirror_mode": {
    "name": "ipython",
    "version": 3
   },
   "file_extension": ".py",
   "mimetype": "text/x-python",
   "name": "python",
   "nbconvert_exporter": "python",
   "pygments_lexer": "ipython3",
   "version": "3.11.5"
  }
 },
 "nbformat": 4,
 "nbformat_minor": 2
}
