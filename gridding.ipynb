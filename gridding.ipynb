{
 "cells": [
  {
   "cell_type": "code",
   "execution_count": 1,
   "metadata": {
    "scrolled": true
   },
   "outputs": [
    {
     "name": "stdout",
     "output_type": "stream",
     "text": [
      "Requirement already satisfied: matplotlib in /home/tom/miniconda3/envs/mpi-env/lib/python3.11/site-packages (3.8.0)\n",
      "Requirement already satisfied: contourpy>=1.0.1 in /home/tom/miniconda3/envs/mpi-env/lib/python3.11/site-packages (from matplotlib) (1.1.1)\n",
      "Requirement already satisfied: cycler>=0.10 in /home/tom/miniconda3/envs/mpi-env/lib/python3.11/site-packages (from matplotlib) (0.12.1)\n",
      "Requirement already satisfied: fonttools>=4.22.0 in /home/tom/miniconda3/envs/mpi-env/lib/python3.11/site-packages (from matplotlib) (4.43.1)\n",
      "Requirement already satisfied: kiwisolver>=1.0.1 in /home/tom/miniconda3/envs/mpi-env/lib/python3.11/site-packages (from matplotlib) (1.4.5)\n",
      "Requirement already satisfied: numpy<2,>=1.21 in /home/tom/miniconda3/envs/mpi-env/lib/python3.11/site-packages (from matplotlib) (1.26.0)\n",
      "Requirement already satisfied: packaging>=20.0 in /home/tom/miniconda3/envs/mpi-env/lib/python3.11/site-packages (from matplotlib) (23.1)\n",
      "Requirement already satisfied: pillow>=6.2.0 in /home/tom/miniconda3/envs/mpi-env/lib/python3.11/site-packages (from matplotlib) (10.1.0)\n",
      "Requirement already satisfied: pyparsing>=2.3.1 in /home/tom/miniconda3/envs/mpi-env/lib/python3.11/site-packages (from matplotlib) (3.1.1)\n",
      "Requirement already satisfied: python-dateutil>=2.7 in /home/tom/miniconda3/envs/mpi-env/lib/python3.11/site-packages (from matplotlib) (2.8.2)\n",
      "Requirement already satisfied: six>=1.5 in /home/tom/miniconda3/envs/mpi-env/lib/python3.11/site-packages (from python-dateutil>=2.7->matplotlib) (1.16.0)\n"
     ]
    }
   ],
   "source": [
    "!pip install matplotlib"
   ]
  },
  {
   "cell_type": "code",
   "execution_count": 27,
   "metadata": {},
   "outputs": [
    {
     "name": "stdout",
     "output_type": "stream",
     "text": [
      "Overwriting gridding.py\n"
     ]
    }
   ],
   "source": [
    "%%file gridding.py\n",
    "\n",
    "from mpi4py import MPI\n",
    "import numpy as np\n",
    "import matplotlib.pyplot as plt\n",
    "import sys\n",
    "\n",
    "# Function to transform coordinates u and v to wavelengths\n",
    "def transform_coordinates(data):\n",
    "    c = 299792458.0  # Speed of light in meters per second\n",
    "    data[:, 0] = data[:, 0] * data[:, 6] / c\n",
    "    data[:, 1] = data[:, 1] * data[:, 6] / c\n",
    "    return data\n",
    "\n",
    "# Function to read the input file\n",
    "def read_data(input_file):\n",
    "    data = []\n",
    "    with open(input_file, 'r') as file:\n",
    "        lines = file.readlines()\n",
    "        for line in lines:\n",
    "            values = line.strip().split(',')\n",
    "            data.append([float(value) for value in values])\n",
    "    return np.array(data)\n",
    "\n",
    "# Function to perform the gridding process\n",
    "def grid_data(local_data, N, delta_x_rad):\n",
    "    local_F_r = np.zeros((N, N), dtype=np.float64)\n",
    "    local_F_i = np.zeros((N, N), dtype=np.float64)\n",
    "    local_W_t = np.zeros((N, N), dtype=np.float64)\n",
    "\n",
    "    weight = local_data[:, 5]\n",
    "    ik = np.round(local_data[:, 0]/ delta_x_rad).astype(int) + N // 2\n",
    "    jk = np.round(local_data[:, 1]/ delta_x_rad).astype(int) + N // 2\n",
    "\n",
    "    valid_indices = (ik >= 0) & (ik < N) & (jk >= 0) & (jk < N)\n",
    "\n",
    "    local_F_r[ik[valid_indices], jk[valid_indices]] += weight[valid_indices] * local_data[valid_indices, 3]\n",
    "    local_F_i[ik[valid_indices], jk[valid_indices]] += weight[valid_indices] * local_data[valid_indices, 4]\n",
    "    local_W_t[ik[valid_indices], jk[valid_indices]] += weight[valid_indices]\n",
    "\n",
    "    return local_F_r, local_F_i\n",
    "\n",
    "\n",
    "\n",
    "# Parse command-line arguments\n",
    "if len(sys.argv) != 7:\n",
    "    print(\"Usage: mpirun -n num_processes python gridding.py -i data_file -d deltax -N image_size\")\n",
    "    sys.exit(1)\n",
    "\n",
    "if sys.argv[1] != '-i':\n",
    "    print(\"Error: You must specify the data file using -i\")\n",
    "    sys.exit(1)\n",
    "\n",
    "if sys.argv[3] != '-d':\n",
    "    print(\"Error: You must specify the value of deltax using -d\")\n",
    "    sys.exit(1)\n",
    "\n",
    "if sys.argv[5] != '-N':\n",
    "    print(\"Error: You must specify the image size using -N\")\n",
    "    sys.exit(1)\n",
    "\n",
    "\n",
    "input_file = sys.argv[2]\n",
    "delta_x_arcsec = float(sys.argv[4])\n",
    "delta_x_rad = (np.pi / 180 / 3600) * delta_x_arcsec\n",
    "N = int(sys.argv[6])\n",
    "    \n",
    "# Initialize MPI\n",
    "comm = MPI.COMM_WORLD\n",
    "rank = comm.Get_rank()\n",
    "size = comm.Get_size()\n",
    "\n",
    "if rank == 0:\n",
    "    data = read_data(input_file)\n",
    "    data = transform_coordinates(data)\n",
    "    data_shape = data.shape\n",
    "\n",
    "else:\n",
    "    data = None\n",
    "    data_shape = None\n",
    "    \n",
    "# Broadcast the shape of data from root process to all processes\n",
    "data_shape = comm.bcast(data_shape, root=0)\n",
    "    \n",
    "# Scatter the data from the root process to all processes\n",
    "recv_data = np.empty((data_shape[0] // size, data_shape[1]), dtype = np.float64)\n",
    "comm.Scatter(data, recv_data, root = 0)\n",
    "\n",
    "# Perform the gridding process on all processes\n",
    "local_F_r, local_F_i = grid_data(recv_data, N, delta_x_rad)\n",
    "\n",
    "# Espera a que todos los procesos terminen\n",
    "comm.Barrier()\n",
    "\n",
    "# Crear arrays vacíos para recopilar las matrices M_real, M_img y M_peso en el proceso raíz\n",
    "if rank == 0:\n",
    "    gathered_M_real = np.empty((size, N, N), dtype = np.float64)\n",
    "    gathered_M_imaginario = np.empty((size, N, N), dtype = np.float64)\n",
    "else:\n",
    "    gathered_M_real = None\n",
    "    gathered_M_imaginario = None\n",
    "\n",
    "# Gather the results from all processes back to the root process\n",
    "comm.Gather(local_F_r, gathered_M_real, root=0)\n",
    "comm.Gather(local_F_i, gathered_M_imaginario, root=0)\n",
    "\n",
    "# The root process (rank 0) join partials results\n",
    "if rank == 0:\n",
    "    m_r = np.zeros((N, N))\n",
    "    m_i = np.zeros((N, N))\n",
    "    \n",
    "    for matrix in gathered_M_real:\n",
    "        m_r += matrix\n",
    "        \n",
    "    for matrix in gathered_M_imaginario:\n",
    "        m_i += matrix\n",
    "    \n",
    "    grid = m_r + 1j * m_i\n",
    "    dirty_image = np.fft.ifftshift(np.fft.fft2(np.fft.fftshift(grid)))\n",
    "\n",
    "    plt.imshow(np.abs(dirty_image), origin='lower', extent=[0, N, 0, N])\n",
    "    plt.colorbar()\n",
    "    plt.show()\n",
    "    plt.savefig('dirtyImage.png')\n",
    "    \n",
    "\n",
    "# Finaliza MPI\n",
    "MPI.Finalize()"
   ]
  },
  {
   "cell_type": "code",
   "execution_count": 28,
   "metadata": {
    "scrolled": true
   },
   "outputs": [
    {
     "name": "stdout",
     "output_type": "stream",
     "text": [
      "Figure(640x480)\r\n"
     ]
    }
   ],
   "source": [
    "!mpirun -n 8 python gridding.py -i hltau_completo_uv.csv -d 0.1 -N 256"
   ]
  },
  {
   "cell_type": "code",
   "execution_count": null,
   "metadata": {},
   "outputs": [],
   "source": []
  }
 ],
 "metadata": {
  "kernelspec": {
   "display_name": "Python 3 (ipykernel)",
   "language": "python",
   "name": "python3"
  },
  "language_info": {
   "codemirror_mode": {
    "name": "ipython",
    "version": 3
   },
   "file_extension": ".py",
   "mimetype": "text/x-python",
   "name": "python",
   "nbconvert_exporter": "python",
   "pygments_lexer": "ipython3",
   "version": "3.11.5"
  }
 },
 "nbformat": 4,
 "nbformat_minor": 2
}
